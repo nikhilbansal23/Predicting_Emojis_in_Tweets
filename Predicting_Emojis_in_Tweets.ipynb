{
  "nbformat": 4,
  "nbformat_minor": 0,
  "metadata": {
    "colab": {
      "provenance": [],
      "mount_file_id": "1ld9hgRHRVdlcIKn2md0qU7aD6PQ7h6uV",
      "authorship_tag": "ABX9TyNsECUqokHdlWy+RDrIrpYC",
      "include_colab_link": true
    },
    "kernelspec": {
      "name": "python3",
      "display_name": "Python 3"
    },
    "language_info": {
      "name": "python"
    }
  },
  "cells": [
    {
      "cell_type": "markdown",
      "metadata": {
        "id": "view-in-github",
        "colab_type": "text"
      },
      "source": [
        "<a href=\"https://colab.research.google.com/github/nikhilbansal23/Predicting_Emojis_in_Tweets/blob/main/Predicting_Emojis_in_Tweets.ipynb\" target=\"_parent\"><img src=\"https://colab.research.google.com/assets/colab-badge.svg\" alt=\"Open In Colab\"/></a>"
      ]
    },
    {
      "cell_type": "code",
      "execution_count": 1,
      "metadata": {
        "id": "bmmqqSbDlKNz"
      },
      "outputs": [],
      "source": [
        "import numpy as np # linear algebra\n",
        "import pandas as pd # data processing, CSV file I/O (e.g. pd.read_csv)\n",
        "import matplotlib.pyplot as plt\n",
        "import seaborn as sns\n",
        "import plotly.express as pl\n",
        "import re"
      ]
    },
    {
      "cell_type": "code",
      "source": [
        "tweets_path = '/content/drive/MyDrive/Datasets/Predicting Emojis in Tweets/tweets.txt'\n",
        "emojis_path = '/content/drive/MyDrive/Datasets/Predicting Emojis in Tweets/emoji.txt'"
      ],
      "metadata": {
        "id": "-Cw33hvjlmrZ"
      },
      "execution_count": 2,
      "outputs": []
    },
    {
      "cell_type": "code",
      "source": [
        "pd.set_option('display.max_columns', None)\n",
        "pd.set_option('display.max_rows', None)\n",
        "pd.set_option('display.max_colwidth', None)"
      ],
      "metadata": {
        "id": "7Bh-WviXpbFe"
      },
      "execution_count": 3,
      "outputs": []
    },
    {
      "cell_type": "code",
      "source": [
        "# Read data from the text file\n",
        "with open(tweets_path, 'r', encoding='utf-8') as file:\n",
        "    data = file.read()\n",
        "\n",
        "# Define a regular expression pattern to extract user and tweet\n",
        "pattern = re.compile(r'RT @(\\w+): (.+)')\n",
        "\n",
        "# Use findall to get all matches in the data\n",
        "matches = pattern.findall(data)\n",
        "\n",
        "# Create a DataFrame\n",
        "tweets_df = pd.DataFrame(matches, columns=['User', 'Tweet'])"
      ],
      "metadata": {
        "id": "fg3S719bmOj_"
      },
      "execution_count": 4,
      "outputs": []
    },
    {
      "cell_type": "code",
      "source": [
        "emoji_df = pd.read_csv(emojis_path, header=None, names=['EmojiLabel'])\n"
      ],
      "metadata": {
        "id": "DKBH9eL_qA2_"
      },
      "execution_count": 15,
      "outputs": []
    },
    {
      "cell_type": "markdown",
      "source": [
        "# **Handling Data Duplicates**"
      ],
      "metadata": {
        "id": "lcLeRux5vc1_"
      }
    },
    {
      "cell_type": "code",
      "source": [
        "# Counting duplicate rows\n",
        "duplicate_count = tweets_df.duplicated().sum()\n",
        "\n",
        "# Displaying the result\n",
        "print(f'Total rows: {len(tweets_df)}')\n",
        "print(f'Total duplicate rows: {duplicate_count}')"
      ],
      "metadata": {
        "colab": {
          "base_uri": "https://localhost:8080/"
        },
        "id": "ipVLQfuEospv",
        "outputId": "c4e2ccf6-d8be-4527-827e-15b97276036d"
      },
      "execution_count": 6,
      "outputs": [
        {
          "output_type": "stream",
          "name": "stdout",
          "text": [
            "Total rows: 69941\n",
            "Total duplicate rows: 49664\n"
          ]
        }
      ]
    },
    {
      "cell_type": "code",
      "source": [
        "len(tweets_df) - duplicate_count"
      ],
      "metadata": {
        "colab": {
          "base_uri": "https://localhost:8080/"
        },
        "id": "8Lsez4oupRg7",
        "outputId": "6e0bf91f-fb6f-47ab-f8e7-d49de7aa0a79"
      },
      "execution_count": 7,
      "outputs": [
        {
          "output_type": "execute_result",
          "data": {
            "text/plain": [
              "20277"
            ]
          },
          "metadata": {},
          "execution_count": 7
        }
      ]
    },
    {
      "cell_type": "code",
      "source": [
        "tweets_df['User'].nunique()"
      ],
      "metadata": {
        "colab": {
          "base_uri": "https://localhost:8080/"
        },
        "id": "MzHTygZxruRD",
        "outputId": "71cf7a4b-ea97-4a91-b137-472baca9a5a9"
      },
      "execution_count": 8,
      "outputs": [
        {
          "output_type": "execute_result",
          "data": {
            "text/plain": [
              "19219"
            ]
          },
          "metadata": {},
          "execution_count": 8
        }
      ]
    },
    {
      "cell_type": "code",
      "source": [
        "tweets_df['Tweet'].nunique()"
      ],
      "metadata": {
        "colab": {
          "base_uri": "https://localhost:8080/"
        },
        "id": "Z2-nRSF5sPmm",
        "outputId": "f5138967-1b1b-4e14-f55a-471c9873cb31"
      },
      "execution_count": 9,
      "outputs": [
        {
          "output_type": "execute_result",
          "data": {
            "text/plain": [
              "19727"
            ]
          },
          "metadata": {},
          "execution_count": 9
        }
      ]
    },
    {
      "cell_type": "code",
      "source": [
        "tweets_df.drop_duplicates(inplace=True)\n"
      ],
      "metadata": {
        "id": "V9IvB5AssaJs"
      },
      "execution_count": 10,
      "outputs": []
    },
    {
      "cell_type": "code",
      "source": [
        "len(tweets_df)"
      ],
      "metadata": {
        "colab": {
          "base_uri": "https://localhost:8080/"
        },
        "id": "JDtt61YloHuM",
        "outputId": "9b95a638-8594-4a52-a2c0-18dee2ebe160"
      },
      "execution_count": 11,
      "outputs": [
        {
          "output_type": "execute_result",
          "data": {
            "text/plain": [
              "20277"
            ]
          },
          "metadata": {},
          "execution_count": 11
        }
      ]
    },
    {
      "cell_type": "markdown",
      "source": [
        "# **Missing Value Checks**"
      ],
      "metadata": {
        "id": "Q1y-dcosvn0B"
      }
    },
    {
      "cell_type": "code",
      "source": [
        "missing_data = tweets_df.isnull().sum()\n",
        "\n",
        "# Visualize missing data\n",
        "plt.figure(figsize=(10, 6))\n",
        "sns.heatmap(tweets_df.isnull(), cbar=False, cmap='viridis')\n",
        "plt.title('Missing Data Heatmap')\n",
        "plt.show()"
      ],
      "metadata": {
        "colab": {
          "base_uri": "https://localhost:8080/",
          "height": 545
        },
        "id": "E8ma2qSgoNqW",
        "outputId": "18d3a6f6-666d-4a53-fdc2-08a80935d281"
      },
      "execution_count": 12,
      "outputs": [
        {
          "output_type": "display_data",
          "data": {
            "text/plain": [
              "<Figure size 1000x600 with 1 Axes>"
            ],
            "image/png": "[encoded data removed]"
          },
          "metadata": {}
        }
      ]
    },
    {
      "cell_type": "markdown",
      "source": [
        "# **Preprocess Text Data:**\n",
        "Clean and preprocess the text data. This may include lowercasing, removing special characters, and tokenization."
      ],
      "metadata": {
        "id": "YWkFE-xjvVMJ"
      }
    },
    {
      "cell_type": "code",
      "source": [
        "import re\n",
        "from nltk.tokenize import word_tokenize\n",
        "from nltk.corpus import stopwords\n",
        "import nltk\n",
        "nltk.download('punkt')\n",
        "nltk.download('stopwords')"
      ],
      "metadata": {
        "colab": {
          "base_uri": "https://localhost:8080/"
        },
        "id": "fa8uJeoysmFp",
        "outputId": "73e2ff44-a7dc-4093-9dda-9d76063b970e"
      },
      "execution_count": 23,
      "outputs": [
        {
          "output_type": "stream",
          "name": "stderr",
          "text": [
            "[nltk_data] Downloading package punkt to /root/nltk_data...\n",
            "[nltk_data]   Package punkt is already up-to-date!\n",
            "[nltk_data] Downloading package stopwords to /root/nltk_data...\n",
            "[nltk_data]   Unzipping corpora/stopwords.zip.\n"
          ]
        },
        {
          "output_type": "execute_result",
          "data": {
            "text/plain": [
              "True"
            ]
          },
          "metadata": {},
          "execution_count": 23
        }
      ]
    },
    {
      "cell_type": "code",
      "source": [
        "import re\n",
        "import nltk\n",
        "from nltk.tokenize import word_tokenize\n",
        "from nltk.corpus import stopwords\n",
        "\n",
        "\n",
        "def preprocess_text(text):\n",
        "    # Remove URLs\n",
        "    text = re.sub(r'http\\S+', '', text)\n",
        "\n",
        "    # Remove '#' from hashtags and '@' from mentions\n",
        "    text = re.sub(r'#(\\w+)', r'\\1', text)\n",
        "    text = re.sub(r'@(\\w+)', r'\\1', text)\n",
        "\n",
        "    return text\n"
      ],
      "metadata": {
        "id": "sYx8y7J2rVJn"
      },
      "execution_count": 33,
      "outputs": []
    },
    {
      "cell_type": "code",
      "source": [
        "# Apply the preprocessing function to the 'Tweet' column\n",
        "tweets_df['ProcessedTweet'] = tweets_df['Tweet'].apply(preprocess_text)\n"
      ],
      "metadata": {
        "id": "QmLaLVEMsEsE"
      },
      "execution_count": 34,
      "outputs": []
    },
    {
      "cell_type": "code",
      "source": [
        "tweets_df.sample(10)"
      ],
      "metadata": {
        "colab": {
          "base_uri": "https://localhost:8080/",
          "height": 512
        },
        "id": "aNH1lmlUsOW0",
        "outputId": "a636932a-d8da-4297-f1a2-d29fb4bbf77a"
      },
      "execution_count": 36,
      "outputs": [
        {
          "output_type": "execute_result",
          "data": {
            "text/plain": [
              "                  User  \\\n",
              "4837      T_Summmerall   \n",
              "3086     jesssica_fish   \n",
              "26968       irielcutno   \n",
              "38518        josueb211   \n",
              "69090  TennisInsideOut   \n",
              "7591    Pursuit0fArete   \n",
              "44280    TheeNatureBoy   \n",
              "47934     toridennison   \n",
              "19489           sujkol   \n",
              "61278          tmose__   \n",
              "\n",
              "                                                                                                                          Tweet  \\\n",
              "4837   wishin you good luck today and on a great season theet better get a head start on our bet we made @ThedaElizabeth https…   \n",
              "3086                                                           bet yall wish yall wcw was as bad as mine http://t.co/mz1Hdi5tiD   \n",
              "26968                                              Man why I'm just seeing this...and we are McDonalds  https://t.co/OXSvMIWpSp   \n",
              "38518                                                                                               @Jvhh_  I bet you can baby    \n",
              "69090                                 WHY IS EVERYONE SHIRTLESS WHEN I'M NOT THERE? THIS IS JUST CRUEL. https://t.co/bQuH31UNVl   \n",
              "7591    She went to Kenya to eat at Java, Subway and KFC . As soon as I land in Nairobi, the first thing I'm eating ni mtura 5…   \n",
              "44280                                                    @NigelGuwoppp ayy! Bet u can't drop like me. Can't milky rock like me    \n",
              "47934                                                     @toridennison she's bringing me starbucks rn  https://t.co/b9lAeqN6Qa   \n",
              "19489     @02kritz @dominos_india This has happened with me too. Dominos should stop saying '30 min or free'. Very bad service.   \n",
              "61278                                                                                          pls someone bring me Starbucks.    \n",
              "\n",
              "                                                                                                                ProcessedTweet  \n",
              "4837         wishin you good luck today and on a great season theet better get a head start on our bet we made ThedaElizabeth   \n",
              "3086                                                                                bet yall wish yall wcw was as bad as mine   \n",
              "26968                                                                    Man why I'm just seeing this...and we are McDonalds    \n",
              "38518                                                                                               Jvhh_  I bet you can baby   \n",
              "69090                                                       WHY IS EVERYONE SHIRTLESS WHEN I'M NOT THERE? THIS IS JUST CRUEL.   \n",
              "7591   She went to Kenya to eat at Java, Subway and KFC . As soon as I land in Nairobi, the first thing I'm eating ni mtura 5…  \n",
              "44280                                                    NigelGuwoppp ayy! Bet u can't drop like me. Can't milky rock like me   \n",
              "47934                                                                            toridennison she's bringing me starbucks rn    \n",
              "19489      02kritz dominos_india This has happened with me too. Dominos should stop saying '30 min or free'. Very bad service.  \n",
              "61278                                                                                         pls someone bring me Starbucks.   "
            ],
            "text/html": [
              "\n",
              "  <div id=\"df-37b3f91a-bbe2-4623-bed5-094d39e8306a\" class=\"colab-df-container\">\n",
              "    <div>\n",
              "<style scoped>\n",
              "    .dataframe tbody tr th:only-of-type {\n",
              "        vertical-align: middle;\n",
              "    }\n",
              "\n",
              "    .dataframe tbody tr th {\n",
              "        vertical-align: top;\n",
              "    }\n",
              "\n",
              "    .dataframe thead th {\n",
              "        text-align: right;\n",
              "    }\n",
              "</style>\n",
              "<table border=\"1\" class=\"dataframe\">\n",
              "  <thead>\n",
              "    <tr style=\"text-align: right;\">\n",
              "      <th></th>\n",
              "      <th>User</th>\n",
              "      <th>Tweet</th>\n",
              "      <th>ProcessedTweet</th>\n",
              "    </tr>\n",
              "  </thead>\n",
              "  <tbody>\n",
              "    <tr>\n",
              "      <th>4837</th>\n",
              "      <td>T_Summmerall</td>\n",
              "      <td>wishin you good luck today and on a great season theet better get a head start on our bet we made @ThedaElizabeth https…</td>\n",
              "      <td>wishin you good luck today and on a great season theet better get a head start on our bet we made ThedaElizabeth</td>\n",
              "    </tr>\n",
              "    <tr>\n",
              "      <th>3086</th>\n",
              "      <td>jesssica_fish</td>\n",
              "      <td>bet yall wish yall wcw was as bad as mine http://t.co/mz1Hdi5tiD</td>\n",
              "      <td>bet yall wish yall wcw was as bad as mine</td>\n",
              "    </tr>\n",
              "    <tr>\n",
              "      <th>26968</th>\n",
              "      <td>irielcutno</td>\n",
              "      <td>Man why I'm just seeing this...and we are McDonalds  https://t.co/OXSvMIWpSp</td>\n",
              "      <td>Man why I'm just seeing this...and we are McDonalds</td>\n",
              "    </tr>\n",
              "    <tr>\n",
              "      <th>38518</th>\n",
              "      <td>josueb211</td>\n",
              "      <td>@Jvhh_  I bet you can baby</td>\n",
              "      <td>Jvhh_  I bet you can baby</td>\n",
              "    </tr>\n",
              "    <tr>\n",
              "      <th>69090</th>\n",
              "      <td>TennisInsideOut</td>\n",
              "      <td>WHY IS EVERYONE SHIRTLESS WHEN I'M NOT THERE? THIS IS JUST CRUEL. https://t.co/bQuH31UNVl</td>\n",
              "      <td>WHY IS EVERYONE SHIRTLESS WHEN I'M NOT THERE? THIS IS JUST CRUEL.</td>\n",
              "    </tr>\n",
              "    <tr>\n",
              "      <th>7591</th>\n",
              "      <td>Pursuit0fArete</td>\n",
              "      <td>She went to Kenya to eat at Java, Subway and KFC . As soon as I land in Nairobi, the first thing I'm eating ni mtura 5…</td>\n",
              "      <td>She went to Kenya to eat at Java, Subway and KFC . As soon as I land in Nairobi, the first thing I'm eating ni mtura 5…</td>\n",
              "    </tr>\n",
              "    <tr>\n",
              "      <th>44280</th>\n",
              "      <td>TheeNatureBoy</td>\n",
              "      <td>@NigelGuwoppp ayy! Bet u can't drop like me. Can't milky rock like me</td>\n",
              "      <td>NigelGuwoppp ayy! Bet u can't drop like me. Can't milky rock like me</td>\n",
              "    </tr>\n",
              "    <tr>\n",
              "      <th>47934</th>\n",
              "      <td>toridennison</td>\n",
              "      <td>@toridennison she's bringing me starbucks rn  https://t.co/b9lAeqN6Qa</td>\n",
              "      <td>toridennison she's bringing me starbucks rn</td>\n",
              "    </tr>\n",
              "    <tr>\n",
              "      <th>19489</th>\n",
              "      <td>sujkol</td>\n",
              "      <td>@02kritz @dominos_india This has happened with me too. Dominos should stop saying '30 min or free'. Very bad service.</td>\n",
              "      <td>02kritz dominos_india This has happened with me too. Dominos should stop saying '30 min or free'. Very bad service.</td>\n",
              "    </tr>\n",
              "    <tr>\n",
              "      <th>61278</th>\n",
              "      <td>tmose__</td>\n",
              "      <td>pls someone bring me Starbucks.</td>\n",
              "      <td>pls someone bring me Starbucks.</td>\n",
              "    </tr>\n",
              "  </tbody>\n",
              "</table>\n",
              "</div>\n",
              "    <div class=\"colab-df-buttons\">\n",
              "\n",
              "  <div class=\"colab-df-container\">\n",
              "    <button class=\"colab-df-convert\" onclick=\"convertToInteractive('df-37b3f91a-bbe2-4623-bed5-094d39e8306a')\"\n",
              "            title=\"Convert this dataframe to an interactive table.\"\n",
              "            style=\"display:none;\">\n",
              "\n",
              "  <svg xmlns=\"http://www.w3.org/2000/svg\" height=\"24px\" viewBox=\"0 -960 960 960\">\n",
              "    <path d=\"M120-120v-720h720v720H120Zm60-500h600v-160H180v160Zm220 220h160v-160H400v160Zm0 220h160v-160H400v160ZM180-400h160v-160H180v160Zm440 0h160v-160H620v160ZM180-180h160v-160H180v160Zm440 0h160v-160H620v160Z\"/>\n",
              "  </svg>\n",
              "    </button>\n",
              "\n",
              "  <style>\n",
              "    .colab-df-container {\n",
              "      display:flex;\n",
              "      gap: 12px;\n",
              "    }\n",
              "\n",
              "    .colab-df-convert {\n",
              "      background-color: #E8F0FE;\n",
              "      border: none;\n",
              "      border-radius: 50%;\n",
              "      cursor: pointer;\n",
              "      display: none;\n",
              "      fill: #1967D2;\n",
              "      height: 32px;\n",
              "      padding: 0 0 0 0;\n",
              "      width: 32px;\n",
              "    }\n",
              "\n",
              "    .colab-df-convert:hover {\n",
              "      background-color: #E2EBFA;\n",
              "      box-shadow: 0px 1px 2px rgba(60, 64, 67, 0.3), 0px 1px 3px 1px rgba(60, 64, 67, 0.15);\n",
              "      fill: #174EA6;\n",
              "    }\n",
              "\n",
              "    .colab-df-buttons div {\n",
              "      margin-bottom: 4px;\n",
              "    }\n",
              "\n",
              "    [theme=dark] .colab-df-convert {\n",
              "      background-color: #3B4455;\n",
              "      fill: #D2E3FC;\n",
              "    }\n",
              "\n",
              "    [theme=dark] .colab-df-convert:hover {\n",
              "      background-color: #434B5C;\n",
              "      box-shadow: 0px 1px 3px 1px rgba(0, 0, 0, 0.15);\n",
              "      filter: drop-shadow(0px 1px 2px rgba(0, 0, 0, 0.3));\n",
              "      fill: #FFFFFF;\n",
              "    }\n",
              "  </style>\n",
              "\n",
              "    <script>\n",
              "      const buttonEl =\n",
              "        document.querySelector('#df-37b3f91a-bbe2-4623-bed5-094d39e8306a button.colab-df-convert');\n",
              "      buttonEl.style.display =\n",
              "        google.colab.kernel.accessAllowed ? 'block' : 'none';\n",
              "\n",
              "      async function convertToInteractive(key) {\n",
              "        const element = document.querySelector('#df-37b3f91a-bbe2-4623-bed5-094d39e8306a');\n",
              "        const dataTable =\n",
              "          await google.colab.kernel.invokeFunction('convertToInteractive',\n",
              "                                                    [key], {});\n",
              "        if (!dataTable) return;\n",
              "\n",
              "        const docLinkHtml = 'Like what you see? Visit the ' +\n",
              "          '<a target=\"_blank\" href=https://colab.research.google.com/notebooks/data_table.ipynb>data table notebook</a>'\n",
              "          + ' to learn more about interactive tables.';\n",
              "        element.innerHTML = '';\n",
              "        dataTable['output_type'] = 'display_data';\n",
              "        await google.colab.output.renderOutput(dataTable, element);\n",
              "        const docLink = document.createElement('div');\n",
              "        docLink.innerHTML = docLinkHtml;\n",
              "        element.appendChild(docLink);\n",
              "      }\n",
              "    </script>\n",
              "  </div>\n",
              "\n",
              "\n",
              "<div id=\"df-e4e1e8ec-990e-4a07-81bb-ba3549a84925\">\n",
              "  <button class=\"colab-df-quickchart\" onclick=\"quickchart('df-e4e1e8ec-990e-4a07-81bb-ba3549a84925')\"\n",
              "            title=\"Suggest charts\"\n",
              "            style=\"display:none;\">\n",
              "\n",
              "<svg xmlns=\"http://www.w3.org/2000/svg\" height=\"24px\"viewBox=\"0 0 24 24\"\n",
              "     width=\"24px\">\n",
              "    <g>\n",
              "        <path d=\"M19 3H5c-1.1 0-2 .9-2 2v14c0 1.1.9 2 2 2h14c1.1 0 2-.9 2-2V5c0-1.1-.9-2-2-2zM9 17H7v-7h2v7zm4 0h-2V7h2v10zm4 0h-2v-4h2v4z\"/>\n",
              "    </g>\n",
              "</svg>\n",
              "  </button>\n",
              "\n",
              "<style>\n",
              "  .colab-df-quickchart {\n",
              "      --bg-color: #E8F0FE;\n",
              "      --fill-color: #1967D2;\n",
              "      --hover-bg-color: #E2EBFA;\n",
              "      --hover-fill-color: #174EA6;\n",
              "      --disabled-fill-color: #AAA;\n",
              "      --disabled-bg-color: #DDD;\n",
              "  }\n",
              "\n",
              "  [theme=dark] .colab-df-quickchart {\n",
              "      --bg-color: #3B4455;\n",
              "      --fill-color: #D2E3FC;\n",
              "      --hover-bg-color: #434B5C;\n",
              "      --hover-fill-color: #FFFFFF;\n",
              "      --disabled-bg-color: #3B4455;\n",
              "      --disabled-fill-color: #666;\n",
              "  }\n",
              "\n",
              "  .colab-df-quickchart {\n",
              "    background-color: var(--bg-color);\n",
              "    border: none;\n",
              "    border-radius: 50%;\n",
              "    cursor: pointer;\n",
              "    display: none;\n",
              "    fill: var(--fill-color);\n",
              "    height: 32px;\n",
              "    padding: 0;\n",
              "    width: 32px;\n",
              "  }\n",
              "\n",
              "  .colab-df-quickchart:hover {\n",
              "    background-color: var(--hover-bg-color);\n",
              "    box-shadow: 0 1px 2px rgba(60, 64, 67, 0.3), 0 1px 3px 1px rgba(60, 64, 67, 0.15);\n",
              "    fill: var(--button-hover-fill-color);\n",
              "  }\n",
              "\n",
              "  .colab-df-quickchart-complete:disabled,\n",
              "  .colab-df-quickchart-complete:disabled:hover {\n",
              "    background-color: var(--disabled-bg-color);\n",
              "    fill: var(--disabled-fill-color);\n",
              "    box-shadow: none;\n",
              "  }\n",
              "\n",
              "  .colab-df-spinner {\n",
              "    border: 2px solid var(--fill-color);\n",
              "    border-color: transparent;\n",
              "    border-bottom-color: var(--fill-color);\n",
              "    animation:\n",
              "      spin 1s steps(1) infinite;\n",
              "  }\n",
              "\n",
              "  @keyframes spin {\n",
              "    0% {\n",
              "      border-color: transparent;\n",
              "      border-bottom-color: var(--fill-color);\n",
              "      border-left-color: var(--fill-color);\n",
              "    }\n",
              "    20% {\n",
              "      border-color: transparent;\n",
              "      border-left-color: var(--fill-color);\n",
              "      border-top-color: var(--fill-color);\n",
              "    }\n",
              "    30% {\n",
              "      border-color: transparent;\n",
              "      border-left-color: var(--fill-color);\n",
              "      border-top-color: var(--fill-color);\n",
              "      border-right-color: var(--fill-color);\n",
              "    }\n",
              "    40% {\n",
              "      border-color: transparent;\n",
              "      border-right-color: var(--fill-color);\n",
              "      border-top-color: var(--fill-color);\n",
              "    }\n",
              "    60% {\n",
              "      border-color: transparent;\n",
              "      border-right-color: var(--fill-color);\n",
              "    }\n",
              "    80% {\n",
              "      border-color: transparent;\n",
              "      border-right-color: var(--fill-color);\n",
              "      border-bottom-color: var(--fill-color);\n",
              "    }\n",
              "    90% {\n",
              "      border-color: transparent;\n",
              "      border-bottom-color: var(--fill-color);\n",
              "    }\n",
              "  }\n",
              "</style>\n",
              "\n",
              "  <script>\n",
              "    async function quickchart(key) {\n",
              "      const quickchartButtonEl =\n",
              "        document.querySelector('#' + key + ' button');\n",
              "      quickchartButtonEl.disabled = true;  // To prevent multiple clicks.\n",
              "      quickchartButtonEl.classList.add('colab-df-spinner');\n",
              "      try {\n",
              "        const charts = await google.colab.kernel.invokeFunction(\n",
              "            'suggestCharts', [key], {});\n",
              "      } catch (error) {\n",
              "        console.error('Error during call to suggestCharts:', error);\n",
              "      }\n",
              "      quickchartButtonEl.classList.remove('colab-df-spinner');\n",
              "      quickchartButtonEl.classList.add('colab-df-quickchart-complete');\n",
              "    }\n",
              "    (() => {\n",
              "      let quickchartButtonEl =\n",
              "        document.querySelector('#df-e4e1e8ec-990e-4a07-81bb-ba3549a84925 button');\n",
              "      quickchartButtonEl.style.display =\n",
              "        google.colab.kernel.accessAllowed ? 'block' : 'none';\n",
              "    })();\n",
              "  </script>\n",
              "</div>\n",
              "\n",
              "    </div>\n",
              "  </div>\n"
            ]
          },
          "metadata": {},
          "execution_count": 36
        }
      ]
    },
    {
      "cell_type": "markdown",
      "source": [
        "# Feature Extraction:\n",
        "\n",
        "Convert the preprocessed text data into numerical representations using vectorization methods such as TF-IDF or word embeddings."
      ],
      "metadata": {
        "id": "2Qco8ejbvt3p"
      }
    },
    {
      "cell_type": "code",
      "source": [
        "from sklearn.feature_extraction.text import TfidfVectorizer\n",
        "\n",
        "tfidf_vectorizer = TfidfVectorizer()\n",
        "X = tfidf_vectorizer.fit_transform(tweets_df['ProcessedTweet'])"
      ],
      "metadata": {
        "id": "xyAkFJ2btP6u"
      },
      "execution_count": 37,
      "outputs": []
    },
    {
      "cell_type": "code",
      "source": [
        "X"
      ],
      "metadata": {
        "colab": {
          "base_uri": "https://localhost:8080/"
        },
        "id": "O8vA-ceqwZ1R",
        "outputId": "fa1f2a42-4fcb-4c10-c146-6e00ca7860a4"
      },
      "execution_count": 42,
      "outputs": [
        {
          "output_type": "execute_result",
          "data": {
            "text/plain": [
              "<20277x21833 sparse matrix of type '<class 'numpy.float64'>'\n",
              "\twith 179623 stored elements in Compressed Sparse Row format>"
            ]
          },
          "metadata": {},
          "execution_count": 42
        }
      ]
    },
    {
      "cell_type": "markdown",
      "source": [
        "# **Label Encoding:**\n",
        "\n",
        "Encode the emoji labels as numerical values."
      ],
      "metadata": {
        "id": "KO9a7TyqwAR4"
      }
    },
    {
      "cell_type": "code",
      "source": [
        "from sklearn.preprocessing import LabelEncoder\n",
        "\n",
        "label_encoder = LabelEncoder()\n",
        "y = label_encoder.fit_transform(emoji_df['EmojiLabel'])\n"
      ],
      "metadata": {
        "id": "GiQEKYTPv7_R"
      },
      "execution_count": 38,
      "outputs": []
    },
    {
      "cell_type": "markdown",
      "source": [
        "# **Split the Data:**\n",
        "\n",
        "Split the data into training and testing sets."
      ],
      "metadata": {
        "id": "CuBQP-3PwRgL"
      }
    },
    {
      "cell_type": "code",
      "source": [
        "# from sklearn.model_selection import train_test_split\n",
        "\n",
        "# X_train, X_test, y_train, y_test = train_test_split(X, y, test_size=0.2, random_state=42)\n"
      ],
      "metadata": {
        "id": "K9J2PPzVwMaB"
      },
      "execution_count": 40,
      "outputs": []
    },
    {
      "cell_type": "code",
      "source": [],
      "metadata": {
        "id": "SrnJkpshwWLu"
      },
      "execution_count": null,
      "outputs": []
    }
  ]
}